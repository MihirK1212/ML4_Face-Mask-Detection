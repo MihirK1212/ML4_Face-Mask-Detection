{
  "nbformat": 4,
  "nbformat_minor": 0,
  "metadata": {
    "colab": {
      "name": "CodeForFirst53Layers.ipynb",
      "provenance": [],
      "collapsed_sections": []
    },
    "kernelspec": {
      "name": "python3",
      "display_name": "Python 3"
    },
    "language_info": {
      "name": "python"
    }
  },
  "cells": [
    {
      "cell_type": "code",
      "metadata": {
        "id": "K4caZr2qoWiQ"
      },
      "source": [
        "#Function for residual block\n",
        "def res_block(inputs, filters):  \n",
        "    skip_shortcut = inputs  \n",
        "    net = conv2d(inputs, filters * 1, 1)  \n",
        "    net = conv2d(net, filters * 2, 3)  \n",
        "    net = net + skip_shortcut  \n",
        "    return net"
      ],
      "execution_count": null,
      "outputs": []
    },
    {
      "cell_type": "code",
      "metadata": {
        "id": "E_okHhmjqXYZ"
      },
      "source": [
        "#output_layer= conv2d(input_layer,no_of_filters,filter_size,stride_value)"
      ],
      "execution_count": null,
      "outputs": []
    },
    {
      "cell_type": "code",
      "metadata": {
        "id": "u1aTdQCvof1U"
      },
      "source": [
        "#Convolutional block with 32 3X3 filters and stride=1\n",
        "net = conv2d(inputs, 32,  3, strides=1)"
      ],
      "execution_count": null,
      "outputs": []
    },
    {
      "cell_type": "code",
      "metadata": {
        "id": "Y0dZVL9i8tHH"
      },
      "source": [
        "#Convolutional block with 64 3X3 filters and stride=2\n",
        "net = conv2d(net, 64,  3, strides=2)"
      ],
      "execution_count": null,
      "outputs": []
    },
    {
      "cell_type": "code",
      "metadata": {
        "id": "LhR7-gI1oimf"
      },
      "source": [
        "#One Residual block \n",
        "net = res_block(net, 32)"
      ],
      "execution_count": null,
      "outputs": []
    },
    {
      "cell_type": "code",
      "metadata": {
        "id": "2UpBlZ1n8wJi"
      },
      "source": [
        "#Convolutional block with 128 3X3 filters and stride=2\n",
        "net = conv2d(net, 128, 3, strides=2)"
      ],
      "execution_count": null,
      "outputs": []
    },
    {
      "cell_type": "code",
      "metadata": {
        "id": "IRu-jiU3olmp"
      },
      "source": [
        "#Two Residual blocks \n",
        "for i in range(2):\n",
        "        net = res_block(net, 64)"
      ],
      "execution_count": null,
      "outputs": []
    },
    {
      "cell_type": "code",
      "metadata": {
        "id": "9_9RHMRI8zA1"
      },
      "source": [
        "#Convolutional block with 256 3X3 filters and stride=2\n",
        "net = conv2d(net, 256, 3, strides=2)"
      ],
      "execution_count": null,
      "outputs": []
    },
    {
      "cell_type": "code",
      "metadata": {
        "id": "svqoTB3p80ZT"
      },
      "source": [
        "#Eight Residual blocks\n",
        "for i in range(8):\n",
        "    net = res_block(net, 128)"
      ],
      "execution_count": null,
      "outputs": []
    },
    {
      "cell_type": "code",
      "metadata": {
        "id": "MJ-5KDu5ooo2"
      },
      "source": [
        "route_1 = net #Save the current layer for future use  #(52x52) feature map is extracted"
      ],
      "execution_count": null,
      "outputs": []
    },
    {
      "cell_type": "code",
      "metadata": {
        "id": "4IizGzoI86zR"
      },
      "source": [
        "#Convolutional block with 512 3X3 filters and stride=2\n",
        "net = conv2d(net, 512, 3, strides=2)"
      ],
      "execution_count": null,
      "outputs": []
    },
    {
      "cell_type": "code",
      "metadata": {
        "id": "crt4Pd_Boq6B"
      },
      "source": [
        "#Eight Residual blocks\n",
        "for i in range(8):\n",
        "    net = res_block(net, 256)"
      ],
      "execution_count": null,
      "outputs": []
    },
    {
      "cell_type": "code",
      "metadata": {
        "id": "_FijB5in9Gvr"
      },
      "source": [
        "route_2 = net #Save the current layer for future use #(26x26) feature map is extracted"
      ],
      "execution_count": null,
      "outputs": []
    },
    {
      "cell_type": "code",
      "metadata": {
        "id": "OBcL2xM89IsB"
      },
      "source": [
        "#Convolutional block with 1024 3X3 filters and stride=2\n",
        "net = conv2d(net, 1024, 3, strides=2)"
      ],
      "execution_count": null,
      "outputs": []
    },
    {
      "cell_type": "code",
      "metadata": {
        "id": "ecZU53A7ot4b"
      },
      "source": [
        "#Four Residual blocks\n",
        "for i in range(4):\n",
        "    net = res_block(net, 512)"
      ],
      "execution_count": null,
      "outputs": []
    },
    {
      "cell_type": "code",
      "metadata": {
        "id": "dDCw1maY9Qi4"
      },
      "source": [
        "route_3 = net #Save the current layer for future use  #(13x13) feature map is extracted"
      ],
      "execution_count": null,
      "outputs": []
    }
  ]
}